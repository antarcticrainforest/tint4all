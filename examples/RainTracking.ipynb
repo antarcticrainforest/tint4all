{
 "cells": [
  {
   "cell_type": "markdown",
   "metadata": {},
   "source": [
    "### This Python notebook should sreve as an example of how to use tint\n",
    "First import all modules that are needed"
   ]
  },
  {
   "cell_type": "code",
   "execution_count": 1,
   "metadata": {},
   "outputs": [],
   "source": [
    "from tint import Cell_tracks, animate\n",
    "import os, pandas as pd\n",
    "from itertools import groupby\n",
    "import numpy as np\n",
    "from netCDF4 import Dataset as nc, num2date, date2num\n",
    "from datetime import datetime, timedelta\n",
    "from tint.helpers import get_times, get_grids\n",
    "from tint.visualization import embed_mp4_as_gif"
   ]
  },
  {
   "cell_type": "markdown",
   "metadata": {},
   "source": [
    "### Define some important variables"
   ]
  },
  {
   "cell_type": "code",
   "execution_count": 2,
   "metadata": {},
   "outputs": [],
   "source": [
    "dataF = os.path.join(os.path.abspath('.'),'data','CPOL_radar.nc') #NetCDF data file\n",
    "trackdir = os.path.join(os.path.abspath('.'),'tracks') #Output directory\n",
    "overwrite = True #Overwirte existing old files\n",
    "first = '2006-11-16 03:00' #Start-date\n",
    "last = '2006-11-16 11:00' #End-date"
   ]
  },
  {
   "cell_type": "markdown",
   "metadata": {},
   "source": [
    "### Open the netCDF file and apply the tracking"
   ]
  },
  {
   "cell_type": "code",
   "execution_count": null,
   "metadata": {},
   "outputs": [
    {
     "name": "stdout",
     "output_type": "stream",
     "text": [
      "Writing tracks for scan 0\n",
      "Writing tracks for scan 1\n",
      "Writing tracks for scan 2\n",
      "Writing tracks for scan 3\n",
      "Writing tracks for scan 4\n",
      "Writing tracks for scan 5\n",
      "Writing tracks for scan 6\n",
      "Writing tracks for scan 7\n",
      "Writing tracks for scan 8\n",
      "Writing tracks for scan 9\n",
      "Writing tracks for scan 10\n",
      "Writing tracks for scan 11\n",
      "Writing tracks for scan 12\n",
      "Writing tracks for scan 13\n",
      "Writing tracks for scan 14\n",
      "Writing tracks for scan 15\n",
      "Writing tracks for scan 16\n",
      "Writing tracks for scan 17\n",
      "Writing tracks for scan 18\n",
      "Writing tracks for scan 19\n",
      "Writing tracks for scan 20\n",
      "Writing tracks for scan 21\n",
      "Writing tracks for scan 22\n",
      "Writing tracks for scan 23\n",
      "Writing tracks for scan 24\n",
      "Writing tracks for scan 25\n",
      "Writing tracks for scan 26\n",
      "Writing tracks for scan 27\n",
      "Writing tracks for scan 28\n",
      "Writing tracks for scan 29\n",
      "Writing tracks for scan 30\n",
      "Writing tracks for scan 31\n",
      "Writing tracks for scan 32\n",
      "Writing tracks for scan 33\n",
      "Writing tracks for scan 34\n",
      "Writing tracks for scan 35\n",
      "Writing tracks for scan 36\n",
      "Writing tracks for scan 37\n",
      "Writing tracks for scan 38\n",
      "Writing tracks for scan 39\n",
      "Writing tracks for scan 40\n",
      "Writing tracks for scan 41\n",
      "Writing tracks for scan 42\n",
      "No cells found in scan 43\n",
      "Writing tracks for scan 44\n",
      "Writing tracks for scan 45\n",
      "Writing tracks for scan 46\n",
      "Writing tracks for scan 47\n",
      "Writing tracks for scan 48\n",
      "No cells found in scan 49\n",
      "\n",
      "\n",
      "time elapsed 0.1 minutes\n",
      "Animating 49 frames\n",
      "Frame: 0\n"
     ]
    },
    {
     "name": "stderr",
     "output_type": "stream",
     "text": [
      "/usr/lib/python3/dist-packages/matplotlib/colors.py:581: RuntimeWarning: invalid value encountered in less\n",
      "  cbook._putmask(xa, xa < 0.0, -1)\n"
     ]
    },
    {
     "name": "stdout",
     "output_type": "stream",
     "text": [
      "Frame: 1\n",
      "Frame: 2\n",
      "Frame: 3\n",
      "Frame: 4\n",
      "Frame: 5\n",
      "Frame: 6\n",
      "Frame: 7\n",
      "Frame: 8\n",
      "Frame: 9\n",
      "Frame: 10\n",
      "Frame: 11\n",
      "Frame: 12\n",
      "Frame: 13\n",
      "Frame: 14\n",
      "Frame: 15\n",
      "Frame: 16\n",
      "Frame: 17\n",
      "Frame: 18\n",
      "Frame: 19\n",
      "Frame: 20\n",
      "Frame: 21\n",
      "Frame: 22\n",
      "Frame: 23\n",
      "Frame: 24\n"
     ]
    }
   ],
   "source": [
    "with nc(dataF) as ncf:\n",
    "        slices = get_times(ncf.variables['time'], first, last,\n",
    "                           ncf.variables['isfile'][:]) #Get the data\n",
    "        lats = ncf.variables['latitude'][:,0]\n",
    "        lons = ncf.variables['longitude'][0,:]\n",
    "        x = lons[int(117/2)]\n",
    "        y = lats[int(117/2)]\n",
    "        grids = []\n",
    "        for s in slices:\n",
    "            ani = False\n",
    "            #Create an iterator for the data dictionary \n",
    "            gr = (i for i in get_grids(ncf, s, lons, lats, varname='radar_estimated_rain_rate'))\n",
    "            anim = (i for i in get_grids(ncf, s, lons, lats, varname='radar_estimated_rain_rate'))\n",
    "            #Construct start and end date of slcie\n",
    "            start = num2date(ncf.variables['time'][s[0]],\n",
    "                             ncf.variables['time'].units)\n",
    "            end = num2date(ncf.variables['time'][s[-1]],\n",
    "                           ncf.variables['time'].units)\n",
    "            #Filename suffix\n",
    "            suffix = '%s-%s'%(start.strftime('%Y_%m_%d_%H'), end.strftime('%Y_%m_%d_%H'))\n",
    "            tracks_obj = Cell_tracks()\n",
    "            tracks_obj.params['MIN_SIZE'] = 4\n",
    "            tracks_obj.params['FIELD_THRESH'] = 1\n",
    "            track_file = os.path.join(trackdir,'tint_tracks_%s.pkl'%suffix)\n",
    "            if not os.path.isfile(track_file) or overwrite:\n",
    "                ncells = tracks_obj.get_tracks(gr, (x,y))\n",
    "                if ncells > 2 :\n",
    "                    tracks_obj.tracks.to_pickle(track_file)\n",
    "                    ani = True\n",
    "                else:\n",
    "                    ani = False\n",
    "            animate(tracks_obj, anim, os.path.join(trackdir,'ani', 'tint_tracks_%s.mp4'%suffix), overwrite=overwrite, dt = 9.5)\n",
    "            \n",
    "               \n",
    "                \n",
    "            "
   ]
  },
  {
   "cell_type": "code",
   "execution_count": null,
   "metadata": {},
   "outputs": [],
   "source": [
    "embed_mp4_as_gif(os.path.join(trackdir,'ani', 'tint_tracks_%s.mp4'%suffix))"
   ]
  },
  {
   "cell_type": "code",
   "execution_count": null,
   "metadata": {},
   "outputs": [],
   "source": []
  },
  {
   "cell_type": "code",
   "execution_count": null,
   "metadata": {},
   "outputs": [],
   "source": []
  }
 ],
 "metadata": {
  "kernelspec": {
   "display_name": "Python 3",
   "language": "python",
   "name": "python3"
  },
  "language_info": {
   "codemirror_mode": {
    "name": "ipython",
    "version": 3
   },
   "file_extension": ".py",
   "mimetype": "text/x-python",
   "name": "python",
   "nbconvert_exporter": "python",
   "pygments_lexer": "ipython3",
   "version": "3.5.2"
  }
 },
 "nbformat": 4,
 "nbformat_minor": 2
}
